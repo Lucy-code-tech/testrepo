{
 "cells": [
  {
   "cell_type": "code",
   "execution_count": 4,
   "id": "ab3abc4d",
   "metadata": {},
   "outputs": [
    {
     "name": "stdout",
     "output_type": "stream",
     "text": [
      "Dash is running on http://127.0.0.1:4050/\n",
      "\n",
      "Dash is running on http://127.0.0.1:4050/\n",
      "\n",
      "Dash is running on http://127.0.0.1:4050/\n",
      "\n",
      " * Serving Flask app '__main__'\n",
      " * Debug mode: off\n"
     ]
    }
   ],
   "source": [
    "import dash\n",
    "from dash import Dash, dcc, html, Output, Input\n",
    "import dash_bootstrap_components as dbc\n",
    "import plotly.express as px\n",
    "import pandas as pd\n",
    "\n",
    "# Initialize the Dash app\n",
    "app = dash.Dash(__name__)\n",
    "\n",
    "# Define the layout of the web page\n",
    "app.layout = html.Div([\n",
    "    html.H1(\"Simple Dash Callback Example\"),\n",
    "    \n",
    "    # Button and paragraph components\n",
    "    html.Button(\"Click Me\", id=\"button\"),\n",
    "    html.P(id=\"output-text\")\n",
    "])\n",
    "\n",
    "# Define the callback function\n",
    "\n",
    "@app.callback(\n",
    "    Output(\"output-text\", \"children\"),  # Output component and property\n",
    "    Input(\"button\", \"n_clicks\")         # Input component and property\n",
    ")\n",
    "\n",
    "# We define a callback function using the @app.callback decorator. \n",
    "# This function takes an input (n_clicks) from the button and updates the text of the paragraph \n",
    "# based on the number of times the button is clicked.\n",
    "def update_output(n_clicks):\n",
    "    if n_clicks is None:\n",
    "        return \"Click the button to update the text.\"\n",
    "    else:\n",
    "        return f\"You've clicked the button {n_clicks} times.\"\n",
    "\n",
    "# Run the Dash app\n",
    "if __name__ == '__main__':\n",
    "    app.run_server(port= 4050, debug=False)\n"
   ]
  },
  {
   "cell_type": "code",
   "execution_count": null,
   "id": "56aa9eb4",
   "metadata": {},
   "outputs": [],
   "source": []
  }
 ],
 "metadata": {
  "kernelspec": {
   "display_name": "Python 3 (ipykernel)",
   "language": "python",
   "name": "python3"
  },
  "language_info": {
   "codemirror_mode": {
    "name": "ipython",
    "version": 3
   },
   "file_extension": ".py",
   "mimetype": "text/x-python",
   "name": "python",
   "nbconvert_exporter": "python",
   "pygments_lexer": "ipython3",
   "version": "3.11.4"
  }
 },
 "nbformat": 4,
 "nbformat_minor": 5
}
